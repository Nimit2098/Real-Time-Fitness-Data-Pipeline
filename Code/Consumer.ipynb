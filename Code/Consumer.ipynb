{
 "cells": [
  {
   "cell_type": "markdown",
   "metadata": {},
   "source": [
    "## Kafka Consumer"
   ]
  },
  {
   "cell_type": "markdown",
   "metadata": {},
   "source": []
  },
  {
   "cell_type": "code",
   "execution_count": 6,
   "metadata": {},
   "outputs": [],
   "source": [
    "# Import necessary libraries\n",
    "import json\n",
    "import pandas as pd\n",
    "from time import sleep\n",
    "from json import dumps, loads\n",
    "from s3fs import S3FileSystem\n",
    "from kafka import KafkaConsumer"
   ]
  },
  {
   "cell_type": "code",
   "execution_count": 7,
   "metadata": {},
   "outputs": [],
   "source": [
    "# Define consumer for the kafka streaming\n",
    "consumer = KafkaConsumer(\n",
    "    'fitnessData',\n",
    "    bootstrap_servers=['3.142.76.164:9092'],\n",
    "    value_deserializer = lambda x: loads(x.decode('utf-8'))\n",
    ")"
   ]
  },
  {
   "cell_type": "code",
   "execution_count": null,
   "metadata": {},
   "outputs": [],
   "source": [
    "# printing the values coming in the consumer\n",
    "for c in consumer:\n",
    "    print(c.value)"
   ]
  },
  {
   "cell_type": "code",
   "execution_count": 4,
   "metadata": {},
   "outputs": [],
   "source": [
    "# Define s3 file object\n",
    "s3 = S3FileSystem()"
   ]
  },
  {
   "cell_type": "code",
   "execution_count": null,
   "metadata": {},
   "outputs": [],
   "source": [
    "# Init of a for loop\n",
    "for count, i in enumerate(consumer):\n",
    "    with s3.open(\"s3://fitness-data-kafka-storage/fitness_data_{}.json\".format(count), 'w') as file: # Define a json file in the s3 bucket with name of the object and count\n",
    "        json.dump(i.value,file) # to add json file to the bucket folder"
   ]
  },
  {
   "cell_type": "code",
   "execution_count": 6,
   "metadata": {},
   "outputs": [
    {
     "name": "stdout",
     "output_type": "stream",
     "text": [
      "{'Id': 1503960366, 'ActivityMinute': '2016-04-12 00:26:00', 'Calories': 0.94379997253418, 'Intensity': 0, 'METs': 12, 'Steps': 0, 'Sleep_Value': 0.0, 'logId': 0.0, 'HeartRate': 71.38}\n"
     ]
    }
   ],
   "source": [
    "# To check last value sent to the s3\n",
    "print(i.value)"
   ]
  }
 ],
 "metadata": {
  "kernelspec": {
   "display_name": "fitness_data_engineering",
   "language": "python",
   "name": "python3"
  },
  "language_info": {
   "codemirror_mode": {
    "name": "ipython",
    "version": 3
   },
   "file_extension": ".py",
   "mimetype": "text/x-python",
   "name": "python",
   "nbconvert_exporter": "python",
   "pygments_lexer": "ipython3",
   "version": "3.11.5"
  }
 },
 "nbformat": 4,
 "nbformat_minor": 2
}
