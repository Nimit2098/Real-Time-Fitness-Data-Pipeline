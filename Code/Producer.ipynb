{
 "cells": [
  {
   "cell_type": "markdown",
   "metadata": {},
   "source": [
    "## Kafka Producer"
   ]
  },
  {
   "cell_type": "code",
   "execution_count": null,
   "metadata": {},
   "outputs": [],
   "source": []
  },
  {
   "cell_type": "code",
   "execution_count": 2,
   "metadata": {},
   "outputs": [],
   "source": [
    "# Importing necessary libraries\n",
    "import json\n",
    "import pandas as pd\n",
    "from json import dumps\n",
    "from time import sleep\n",
    "from kafka import KafkaProducer"
   ]
  },
  {
   "cell_type": "code",
   "execution_count": 12,
   "metadata": {},
   "outputs": [],
   "source": [
    "# Define producer for the kafka streaming\n",
    "producer = KafkaProducer(bootstrap_servers=['3.142.76.164:9092'],\n",
    "                         value_serializer=lambda x:\n",
    "                         dumps(x).encode('utf-8'))"
   ]
  },
  {
   "cell_type": "markdown",
   "metadata": {},
   "source": [
    "Test message to see if the consumer is listening to the kafka producer"
   ]
  },
  {
   "cell_type": "code",
   "execution_count": 13,
   "metadata": {},
   "outputs": [
    {
     "data": {
      "text/plain": [
       "<kafka.producer.future.FutureRecordMetadata at 0x1f14395e1d0>"
      ]
     },
     "execution_count": 13,
     "metadata": {},
     "output_type": "execute_result"
    }
   ],
   "source": [
    "# To send a message using the producer\n",
    "producer.send('fitnessData', value=\"{'Surname': 'Shah}\")"
   ]
  },
  {
   "cell_type": "code",
   "execution_count": 5,
   "metadata": {},
   "outputs": [],
   "source": [
    "# Importing the csv file\n",
    "df = pd.read_csv('../Data/FitbitdataMinute.csv')\n",
    "\n",
    "# Drop the unwanted column\n",
    "df.drop(columns='Unnamed: 0', inplace=True)"
   ]
  },
  {
   "cell_type": "code",
   "execution_count": 6,
   "metadata": {},
   "outputs": [
    {
     "data": {
      "text/html": [
       "<div>\n",
       "<style scoped>\n",
       "    .dataframe tbody tr th:only-of-type {\n",
       "        vertical-align: middle;\n",
       "    }\n",
       "\n",
       "    .dataframe tbody tr th {\n",
       "        vertical-align: top;\n",
       "    }\n",
       "\n",
       "    .dataframe thead th {\n",
       "        text-align: right;\n",
       "    }\n",
       "</style>\n",
       "<table border=\"1\" class=\"dataframe\">\n",
       "  <thead>\n",
       "    <tr style=\"text-align: right;\">\n",
       "      <th></th>\n",
       "      <th>Id</th>\n",
       "      <th>Date</th>\n",
       "      <th>Time</th>\n",
       "      <th>Calories</th>\n",
       "      <th>Intensity</th>\n",
       "      <th>METs</th>\n",
       "      <th>Steps</th>\n",
       "      <th>Sleep_Value</th>\n",
       "      <th>logId</th>\n",
       "      <th>HeartRate</th>\n",
       "    </tr>\n",
       "  </thead>\n",
       "  <tbody>\n",
       "    <tr>\n",
       "      <th>0</th>\n",
       "      <td>1503960366</td>\n",
       "      <td>2016-04-12</td>\n",
       "      <td>00:00:00</td>\n",
       "      <td>0.7865</td>\n",
       "      <td>0</td>\n",
       "      <td>10</td>\n",
       "      <td>0</td>\n",
       "      <td>0.0</td>\n",
       "      <td>0.0</td>\n",
       "      <td>68.41</td>\n",
       "    </tr>\n",
       "    <tr>\n",
       "      <th>1</th>\n",
       "      <td>1503960366</td>\n",
       "      <td>2016-04-12</td>\n",
       "      <td>00:01:00</td>\n",
       "      <td>0.7865</td>\n",
       "      <td>0</td>\n",
       "      <td>10</td>\n",
       "      <td>0</td>\n",
       "      <td>0.0</td>\n",
       "      <td>0.0</td>\n",
       "      <td>68.41</td>\n",
       "    </tr>\n",
       "    <tr>\n",
       "      <th>2</th>\n",
       "      <td>1503960366</td>\n",
       "      <td>2016-04-12</td>\n",
       "      <td>00:02:00</td>\n",
       "      <td>0.7865</td>\n",
       "      <td>0</td>\n",
       "      <td>10</td>\n",
       "      <td>0</td>\n",
       "      <td>0.0</td>\n",
       "      <td>0.0</td>\n",
       "      <td>68.41</td>\n",
       "    </tr>\n",
       "    <tr>\n",
       "      <th>3</th>\n",
       "      <td>1503960366</td>\n",
       "      <td>2016-04-12</td>\n",
       "      <td>00:03:00</td>\n",
       "      <td>0.7865</td>\n",
       "      <td>0</td>\n",
       "      <td>10</td>\n",
       "      <td>0</td>\n",
       "      <td>0.0</td>\n",
       "      <td>0.0</td>\n",
       "      <td>68.41</td>\n",
       "    </tr>\n",
       "    <tr>\n",
       "      <th>4</th>\n",
       "      <td>1503960366</td>\n",
       "      <td>2016-04-12</td>\n",
       "      <td>00:04:00</td>\n",
       "      <td>0.7865</td>\n",
       "      <td>0</td>\n",
       "      <td>10</td>\n",
       "      <td>0</td>\n",
       "      <td>0.0</td>\n",
       "      <td>0.0</td>\n",
       "      <td>68.41</td>\n",
       "    </tr>\n",
       "  </tbody>\n",
       "</table>\n",
       "</div>"
      ],
      "text/plain": [
       "           Id        Date      Time  Calories  Intensity  METs  Steps  \\\n",
       "0  1503960366  2016-04-12  00:00:00    0.7865          0    10      0   \n",
       "1  1503960366  2016-04-12  00:01:00    0.7865          0    10      0   \n",
       "2  1503960366  2016-04-12  00:02:00    0.7865          0    10      0   \n",
       "3  1503960366  2016-04-12  00:03:00    0.7865          0    10      0   \n",
       "4  1503960366  2016-04-12  00:04:00    0.7865          0    10      0   \n",
       "\n",
       "   Sleep_Value  logId  HeartRate  \n",
       "0          0.0    0.0      68.41  \n",
       "1          0.0    0.0      68.41  \n",
       "2          0.0    0.0      68.41  \n",
       "3          0.0    0.0      68.41  \n",
       "4          0.0    0.0      68.41  "
      ]
     },
     "execution_count": 6,
     "metadata": {},
     "output_type": "execute_result"
    }
   ],
   "source": [
    "# Display the sample of the dataframe\n",
    "df.head()"
   ]
  },
  {
   "cell_type": "code",
   "execution_count": null,
   "metadata": {},
   "outputs": [],
   "source": [
    "# Initialize a counter\n",
    "i=0\n",
    "# Init of a while loop\n",
    "while True:\n",
    "    dict_fitbit_data = df.iloc[i].to_dict() # Define dict from the row of dataframe\n",
    "    #print(dict_fitbit_data)\n",
    "    producer.send('fitnessData', value=dict_fitbit_data) # To send a message using the producer\n",
    "    i += 1 # Increment the counter"
   ]
  },
  {
   "cell_type": "code",
   "execution_count": 24,
   "metadata": {},
   "outputs": [
    {
     "name": "stdout",
     "output_type": "stream",
     "text": [
      "1326123\n"
     ]
    }
   ],
   "source": [
    "# To check the index that was last sent through the producer\n",
    "print(i)"
   ]
  },
  {
   "cell_type": "code",
   "execution_count": 5,
   "metadata": {},
   "outputs": [],
   "source": [
    "# To clear the buffer in kafka\n",
    "producer.flush()"
   ]
  },
  {
   "cell_type": "code",
   "execution_count": 16,
   "metadata": {},
   "outputs": [
    {
     "data": {
      "text/html": [
       "<div>\n",
       "<style scoped>\n",
       "    .dataframe tbody tr th:only-of-type {\n",
       "        vertical-align: middle;\n",
       "    }\n",
       "\n",
       "    .dataframe tbody tr th {\n",
       "        vertical-align: top;\n",
       "    }\n",
       "\n",
       "    .dataframe thead th {\n",
       "        text-align: right;\n",
       "    }\n",
       "</style>\n",
       "<table border=\"1\" class=\"dataframe\">\n",
       "  <thead>\n",
       "    <tr style=\"text-align: right;\">\n",
       "      <th></th>\n",
       "      <th>Id</th>\n",
       "      <th>ActivityMinute</th>\n",
       "      <th>Calories</th>\n",
       "      <th>Intensity</th>\n",
       "      <th>METs</th>\n",
       "      <th>Steps</th>\n",
       "      <th>Sleep_Value</th>\n",
       "      <th>logId</th>\n",
       "      <th>HeartRate</th>\n",
       "    </tr>\n",
       "  </thead>\n",
       "  <tbody>\n",
       "    <tr>\n",
       "      <th>1326122</th>\n",
       "      <td>8877689391</td>\n",
       "      <td>2016-05-12 13:59:00</td>\n",
       "      <td>1.33353</td>\n",
       "      <td>0</td>\n",
       "      <td>11</td>\n",
       "      <td>0</td>\n",
       "      <td>0.0</td>\n",
       "      <td>0.0</td>\n",
       "      <td>69.08</td>\n",
       "    </tr>\n",
       "  </tbody>\n",
       "</table>\n",
       "</div>"
      ],
      "text/plain": [
       "                 Id       ActivityMinute  Calories  Intensity  METs  Steps  \\\n",
       "1326122  8877689391  2016-05-12 13:59:00   1.33353          0    11      0   \n",
       "\n",
       "         Sleep_Value  logId  HeartRate  \n",
       "1326122          0.0    0.0      69.08  "
      ]
     },
     "execution_count": 16,
     "metadata": {},
     "output_type": "execute_result"
    }
   ],
   "source": [
    "# To check the last entry in the consumer to the dataframe\n",
    "df[(df['Id'] == 8877689391) & (df['ActivityMinute'] == '2016-05-12 13:59:00')]"
   ]
  }
 ],
 "metadata": {
  "kernelspec": {
   "display_name": "fitness_data_engineering",
   "language": "python",
   "name": "python3"
  },
  "language_info": {
   "codemirror_mode": {
    "name": "ipython",
    "version": 3
   },
   "file_extension": ".py",
   "mimetype": "text/x-python",
   "name": "python",
   "nbconvert_exporter": "python",
   "pygments_lexer": "ipython3",
   "version": "3.11.5"
  }
 },
 "nbformat": 4,
 "nbformat_minor": 2
}
